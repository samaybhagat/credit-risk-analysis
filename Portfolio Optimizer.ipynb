{
 "cells": [
  {
   "cell_type": "code",
   "execution_count": 127,
   "id": "af398e7f",
   "metadata": {},
   "outputs": [],
   "source": [
    "# initialization\n",
    "\n",
    "import numpy as np\n",
    "import matplotlib.pyplot as plt\n",
    "import datetime "
   ]
  },
  {
   "cell_type": "code",
   "execution_count": 128,
   "id": "9abff811",
   "metadata": {},
   "outputs": [],
   "source": [
    "# importing qiskit tools\n",
    "\n",
    "from qiskit import Aer\n",
    "from qiskit.algorithms import VQE, NumPyMinimumEigensolver\n",
    "from qiskit.algorithms.optimizers import COBYLA\n",
    "from qiskit.circuit.library import TwoLocal\n",
    "from qiskit.utils import QuantumInstance\n",
    "from qiskit_finance.applications.optimization import PortfolioOptimization\n",
    "from qiskit_finance.data_providers import RandomDataProvider\n",
    "from qiskit_optimization.algorithms import MinimumEigenOptimizer\n",
    "from qiskit_optimization.applications import OptimizationApplication\n",
    "from qiskit_optimization.converters import QuadraticProgramToQubo"
   ]
  },
  {
   "cell_type": "code",
   "execution_count": 129,
   "id": "547f808c",
   "metadata": {},
   "outputs": [],
   "source": [
    "# establishing the number of assets (same as # of cubits)\n",
    "\n",
    "num_assets = 4\n",
    "seed = 987\n",
    "\n",
    "# select randomly generated data through RandomDataProvider\n",
    "\n",
    "stocks = [(\"TICKER%s\" % i) for i in range(num_assets)]\n",
    "data = RandomDataProvider(\n",
    "    tickers=stocks,\n",
    "    start=datetime.datetime(2021, 1, 1),\n",
    "    end=datetime.datetime(2021, 1, 30),\n",
    "    seed=seed,\n",
    ")"
   ]
  },
  {
   "cell_type": "code",
   "execution_count": 130,
   "id": "0dc09cdf",
   "metadata": {},
   "outputs": [],
   "source": [
    "# calculate expected return and covariance from generated data\n",
    "\n",
    "data.run()\n",
    "ER = data.get_period_return_mean_vector()\n",
    "cov = data.get_period_return_covariance_matrix()"
   ]
  },
  {
   "cell_type": "code",
   "execution_count": 131,
   "id": "7e17d9b8",
   "metadata": {
    "scrolled": true
   },
   "outputs": [
    {
     "data": {
      "text/plain": [
       "<QuadraticProgram: minimize 5.407807067246991e-05*x_0^2 + 8.75361231402276e-06..., 4 variables, 1 constraints, 'Portfolio optimization'>"
      ]
     },
     "execution_count": 131,
     "metadata": {},
     "output_type": "execute_result"
    }
   ],
   "source": [
    "# establishing parameters for optimizer\n",
    "rf = 0.5  \n",
    "budget = num_assets // 2    \n",
    "portfolio = PortfolioOptimization(\n",
    "    expected_returns=ER, covariances=cov, risk_factor=rf, budget=budget\n",
    ")\n",
    "qp = portfolio.to_quadratic_program()\n",
    "qp"
   ]
  },
  {
   "cell_type": "code",
   "execution_count": 136,
   "id": "9206cd21",
   "metadata": {},
   "outputs": [],
   "source": [
    "# organizing print results\n",
    "\n",
    "def print_result(result):\n",
    "    selection = result.x\n",
    "    value = result.fval\n",
    "    print(\"Optimal: selection {}, value of obj func {:.4f}\".format(selection, value))\n",
    "\n",
    "    eigenstate = result.min_eigen_solver_result.eigenstate\n",
    "    eigenvector = eigenstate if isinstance(eigenstate, np.ndarray) else eigenstate.to_matrix()\n",
    "    probabilities = np.abs(eigenvector) ** 2\n",
    "    i_sorted = reversed(np.argsort(probabilities))\n",
    "    print(\"\\n----------------- results ---------------------\")\n",
    "    print(\"selection\\tvalue\\t\\tprobability\")\n",
    "    for i in i_sorted:\n",
    "        x = index_to_selection(i, num_assets)\n",
    "        value = QuadraticProgramToQubo().convert(qp).objective.evaluate(x)\n",
    "        probability = probabilities[i]\n",
    "        print(\"%10s\\t%.4f\\t\\t%.4f\" % (x, value, probability))"
   ]
  },
  {
   "cell_type": "code",
   "execution_count": 137,
   "id": "7f70e1b4",
   "metadata": {},
   "outputs": [],
   "source": [
    "# using vqe to find optimal asset choices\n",
    "\n",
    "from qiskit.utils import algorithm_globals\n",
    "\n",
    "algorithm_globals.random_seed = 9876\n",
    "backend = Aer.get_backend(\"statevector_simulator\")\n",
    "\n",
    "cobyla = COBYLA()\n",
    "cobyla.set_options(maxiter=500)\n",
    "ry = TwoLocal(num_assets, \"ry\", \"cz\", reps=3, entanglement=\"full\")\n",
    "qi_VQE = QuantumInstance(backend=backend, seed_simulator=seed, seed_transpiler=seed)\n",
    "vqe_mes = VQE(ry, optimizer=cobyla, quantum_instance=qi_VQE)\n",
    "vqe = MinimumEigenOptimizer(vqe_mes)\n",
    "result = vqe.solve(qp)"
   ]
  },
  {
   "cell_type": "code",
   "execution_count": 138,
   "id": "bdf58517",
   "metadata": {},
   "outputs": [
    {
     "name": "stdout",
     "output_type": "stream",
     "text": [
      "Optimal: selection [1. 0. 1. 0.], value of obj func -0.0007\n",
      "\n",
      "----------------- results ---------------------\n",
      "selection\tvalue\t\tprobability\n",
      " [1 0 1 0]\t-0.0007\t\t0.8891\n",
      " [1 1 0 0]\t0.0385\t\t0.0645\n",
      " [0 1 0 1]\t0.0410\t\t0.0405\n",
      " [0 0 1 1]\t0.0024\t\t0.0048\n",
      " [1 0 0 1]\t0.0050\t\t0.0006\n",
      " [1 1 0 1]\t1.0911\t\t0.0002\n",
      " [0 1 1 1]\t1.0905\t\t0.0001\n",
      " [0 1 1 0]\t0.0377\t\t0.0000\n",
      " [1 0 0 0]\t1.0501\t\t0.0000\n",
      " [0 1 0 0]\t1.0867\t\t0.0000\n",
      " [0 0 0 1]\t1.0532\t\t0.0000\n",
      " [0 0 0 0]\t4.1967\t\t0.0000\n",
      " [0 0 1 0]\t1.0474\t\t0.0000\n",
      " [1 1 1 1]\t4.2391\t\t0.0000\n",
      " [1 1 1 0]\t1.0880\t\t0.0000\n",
      " [1 0 1 1]\t1.0527\t\t0.0000\n"
     ]
    }
   ],
   "source": [
    "# printing optimization results from VQE\n",
    "\n",
    "print_result(result)"
   ]
  },
  {
   "cell_type": "code",
   "execution_count": 139,
   "id": "b13fe9ed",
   "metadata": {},
   "outputs": [
    {
     "name": "stdout",
     "output_type": "stream",
     "text": [
      "Optimal: selection [1. 0. 1. 0.], value of obj func -0.0007\n",
      "\n",
      "----------------- results ---------------------\n",
      "selection\tvalue\t\tprobability\n",
      " [1 0 1 0]\t-0.0007\t\t1.0000\n",
      " [1 1 1 1]\t4.2391\t\t0.0000\n",
      " [0 1 1 1]\t1.0905\t\t0.0000\n",
      " [1 0 1 1]\t1.0527\t\t0.0000\n",
      " [0 0 1 1]\t0.0024\t\t0.0000\n",
      " [1 1 0 1]\t1.0911\t\t0.0000\n",
      " [0 1 0 1]\t0.0410\t\t0.0000\n",
      " [1 0 0 1]\t0.0050\t\t0.0000\n",
      " [0 0 0 1]\t1.0532\t\t0.0000\n",
      " [1 1 1 0]\t1.0880\t\t0.0000\n",
      " [0 1 1 0]\t0.0377\t\t0.0000\n",
      " [0 0 1 0]\t1.0474\t\t0.0000\n",
      " [1 1 0 0]\t0.0385\t\t0.0000\n",
      " [0 1 0 0]\t1.0867\t\t0.0000\n",
      " [1 0 0 0]\t1.0501\t\t0.0000\n",
      " [0 0 0 0]\t4.1967\t\t0.0000\n"
     ]
    }
   ],
   "source": [
    "# printing optimization results NumPyMinimumEigensolver (classical method)\n",
    "\n",
    "mes = NumPyMinimumEigensolver()\n",
    "eigensolver = MinimumEigenOptimizer(mes)\n",
    "\n",
    "result = eigensolver.solve(qp)\n",
    "\n",
    "print_result(result)"
   ]
  },
  {
   "cell_type": "code",
   "execution_count": null,
   "id": "b177e3ec",
   "metadata": {},
   "outputs": [],
   "source": []
  }
 ],
 "metadata": {
  "kernelspec": {
   "display_name": "Qiskit (stable)",
   "language": "python",
   "name": "qiskit-stable"
  },
  "language_info": {
   "codemirror_mode": {
    "name": "ipython",
    "version": 3
   },
   "file_extension": ".py",
   "mimetype": "text/x-python",
   "name": "python",
   "nbconvert_exporter": "python",
   "pygments_lexer": "ipython3",
   "version": "3.9.15"
  }
 },
 "nbformat": 4,
 "nbformat_minor": 5
}
